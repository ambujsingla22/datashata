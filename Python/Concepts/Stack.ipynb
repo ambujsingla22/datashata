{
 "cells": [
  {
   "cell_type": "markdown",
   "id": "610bda6c-46de-44cd-914a-9299e9e6da80",
   "metadata": {},
   "source": [
    "# Stack Theory"
   ]
  },
  {
   "cell_type": "markdown",
   "id": "b0f8c0a3-7b9e-4cf5-ad7e-c7829c495573",
   "metadata": {},
   "source": [
    "### A stack is a linear data structure that follows the Last In, First Out (LIFO) principle.\n",
    "### This means that the last element added to the stack is the first one to be removed.\n",
    "### Common operations include:\n",
    "##### - push: Add an element to the top of the stack.\n",
    "##### - pop: Remove the top element of the stack.\n",
    "##### - peek (or top): View the top element without removing it.\n",
    "#### - is_empty: Check if the stack is empty.\n",
    "### Stacks are used in various applications like undo mechanisms, expression evaluation, and recursion handling."
   ]
  },
  {
   "cell_type": "code",
   "execution_count": 20,
   "id": "789866a4-8a55-453b-b52c-ef80d65e2a5b",
   "metadata": {},
   "outputs": [],
   "source": [
    "class Stack:\n",
    "    def __init__(self):\n",
    "        self.items=[]\n",
    "\n",
    "    def push(self,element):\n",
    "        self.items.append(element)\n",
    "\n",
    "    def pop(self):\n",
    "        if len(self.items)==0:\n",
    "            raise Exception('No elements in stack to pop')\n",
    "        self.items.pop()\n",
    "\n",
    "    def peek(self):\n",
    "        if len(self.items)==0:\n",
    "            raise Exception('No elements in stack to pop')\n",
    "        return self.items[-1]\n",
    "\n",
    "    def is_empty(self):\n",
    "        return len(self.items)==0\n",
    "\n",
    "    def size(self):\n",
    "        return len(self.items)\n",
    "\n",
    "    def print(self):\n",
    "        return self.items"
   ]
  },
  {
   "cell_type": "markdown",
   "id": "6cb44d1c-10fa-4ea4-a5fc-89d1f96106ae",
   "metadata": {},
   "source": [
    "## Create a stack and push data"
   ]
  },
  {
   "cell_type": "code",
   "execution_count": 21,
   "id": "4de064eb-2841-4982-9ce2-1c22763f3583",
   "metadata": {},
   "outputs": [],
   "source": [
    "stack=Stack()\n",
    "stack.push(3)\n",
    "stack.push(18)\n",
    "stack.push(654)\n",
    "stack.push(87)"
   ]
  },
  {
   "cell_type": "markdown",
   "id": "03995af7-6069-41e8-9948-ac2a68d0762b",
   "metadata": {},
   "source": [
    "## Display Stack"
   ]
  },
  {
   "cell_type": "code",
   "execution_count": 22,
   "id": "224536ea-64dc-4397-95cb-060aa5affb9c",
   "metadata": {},
   "outputs": [
    {
     "name": "stdout",
     "output_type": "stream",
     "text": [
      "Initial Stack -> [3, 18, 654, 87]\n"
     ]
    }
   ],
   "source": [
    "print(\"Initial Stack ->\",stack.print())"
   ]
  },
  {
   "cell_type": "markdown",
   "id": "109f48ea-410c-471e-b1c8-ab3e06f20147",
   "metadata": {},
   "source": [
    "## Remove item"
   ]
  },
  {
   "cell_type": "code",
   "execution_count": 23,
   "id": "0ec4b816-6d89-463c-af95-599b1ac925fc",
   "metadata": {},
   "outputs": [
    {
     "name": "stdout",
     "output_type": "stream",
     "text": [
      "Popping Stack -> None\n"
     ]
    }
   ],
   "source": [
    "print(\"Popping Stack ->\", stack.pop())"
   ]
  },
  {
   "cell_type": "markdown",
   "id": "b57b360c-ac05-469a-975a-238a7e51c63a",
   "metadata": {},
   "source": [
    "## Display item after pop"
   ]
  },
  {
   "cell_type": "code",
   "execution_count": 24,
   "id": "b86bbca2-a216-4af3-a2ac-ed23ab5207e9",
   "metadata": {},
   "outputs": [
    {
     "name": "stdout",
     "output_type": "stream",
     "text": [
      "After pop Stack -> [3, 18, 654]\n"
     ]
    }
   ],
   "source": [
    "print(\"After pop Stack ->\", stack.print())"
   ]
  },
  {
   "cell_type": "markdown",
   "id": "0b7758d3-5056-465c-b012-8e9902892076",
   "metadata": {},
   "source": [
    "## Peek item without popping"
   ]
  },
  {
   "cell_type": "code",
   "execution_count": 25,
   "id": "6b53ac95-6965-4ef9-b602-bb862a522109",
   "metadata": {},
   "outputs": [
    {
     "name": "stdout",
     "output_type": "stream",
     "text": [
      "Peeking Stack -> 654\n"
     ]
    }
   ],
   "source": [
    "print(\"Peeking Stack ->\", stack.peek())"
   ]
  },
  {
   "cell_type": "markdown",
   "id": "cccb2f48-095a-4d36-b727-360829ccf525",
   "metadata": {},
   "source": [
    "## Display stack to check peek does not remove the item"
   ]
  },
  {
   "cell_type": "code",
   "execution_count": 26,
   "id": "bc1692b7-ccd3-4331-b1e3-3afa9d5cbeaf",
   "metadata": {},
   "outputs": [
    {
     "name": "stdout",
     "output_type": "stream",
     "text": [
      "After peekingStack -> [3, 18, 654]\n"
     ]
    }
   ],
   "source": [
    "print(\"After peekingStack ->\", stack.print())"
   ]
  },
  {
   "cell_type": "markdown",
   "id": "03fc5ff2-8be1-4b96-ab3f-d8c7a868ea5e",
   "metadata": {},
   "source": [
    "## Check if the stack is empty or not"
   ]
  },
  {
   "cell_type": "code",
   "execution_count": 27,
   "id": "776ba35e-c140-477e-8864-cdf559c085c3",
   "metadata": {},
   "outputs": [
    {
     "name": "stdout",
     "output_type": "stream",
     "text": [
      "Is empty Stack -> False\n"
     ]
    }
   ],
   "source": [
    "print(\"Is empty Stack ->\", stack.is_empty())"
   ]
  },
  {
   "cell_type": "markdown",
   "id": "c27059a8-769d-4344-962e-f403b1b3bff9",
   "metadata": {},
   "source": [
    "## Print size of stack"
   ]
  },
  {
   "cell_type": "code",
   "execution_count": 28,
   "id": "2a8acbc8-99f9-4f58-a924-d90768f43ff4",
   "metadata": {},
   "outputs": [
    {
     "name": "stdout",
     "output_type": "stream",
     "text": [
      "Size of Stack -> 3\n"
     ]
    }
   ],
   "source": [
    "print(\"Size of Stack ->\", stack.size())"
   ]
  },
  {
   "cell_type": "markdown",
   "id": "f0b0ef92-f199-4138-a546-7a25c097d257",
   "metadata": {},
   "source": [
    "## Remove all item one by one and print size of stack"
   ]
  },
  {
   "cell_type": "code",
   "execution_count": 29,
   "id": "65ae4847-766f-4ca7-9e61-6343ca0811e0",
   "metadata": {},
   "outputs": [
    {
     "name": "stdout",
     "output_type": "stream",
     "text": [
      "Size of Stack -> 0\n"
     ]
    }
   ],
   "source": [
    "stack.pop()\n",
    "stack.pop()\n",
    "stack.pop()\n",
    "print(\"Size of Stack ->\", stack.size())"
   ]
  },
  {
   "cell_type": "markdown",
   "id": "05e333ae-4eb4-46a5-b19b-a90cd09a2a72",
   "metadata": {},
   "source": [
    "## One more removal of item will raise exception as the size of stack is zero"
   ]
  },
  {
   "cell_type": "code",
   "execution_count": 30,
   "id": "f2b66490-0af8-4c38-aed3-3547cc4d9352",
   "metadata": {},
   "outputs": [
    {
     "ename": "Exception",
     "evalue": "No elements in stack to pop",
     "output_type": "error",
     "traceback": [
      "\u001b[0;31m---------------------------------------------------------------------------\u001b[0m",
      "\u001b[0;31mException\u001b[0m                                 Traceback (most recent call last)",
      "Cell \u001b[0;32mIn[30], line 1\u001b[0m\n\u001b[0;32m----> 1\u001b[0m \u001b[43mstack\u001b[49m\u001b[38;5;241;43m.\u001b[39;49m\u001b[43mpop\u001b[49m\u001b[43m(\u001b[49m\u001b[43m)\u001b[49m\n",
      "Cell \u001b[0;32mIn[20], line 10\u001b[0m, in \u001b[0;36mStack.pop\u001b[0;34m(self)\u001b[0m\n\u001b[1;32m      8\u001b[0m \u001b[38;5;28;01mdef\u001b[39;00m \u001b[38;5;21mpop\u001b[39m(\u001b[38;5;28mself\u001b[39m):\n\u001b[1;32m      9\u001b[0m     \u001b[38;5;28;01mif\u001b[39;00m \u001b[38;5;28mlen\u001b[39m(\u001b[38;5;28mself\u001b[39m\u001b[38;5;241m.\u001b[39mitems)\u001b[38;5;241m==\u001b[39m\u001b[38;5;241m0\u001b[39m:\n\u001b[0;32m---> 10\u001b[0m         \u001b[38;5;28;01mraise\u001b[39;00m \u001b[38;5;167;01mException\u001b[39;00m(\u001b[38;5;124m'\u001b[39m\u001b[38;5;124mNo elements in stack to pop\u001b[39m\u001b[38;5;124m'\u001b[39m)\n\u001b[1;32m     11\u001b[0m     \u001b[38;5;28mself\u001b[39m\u001b[38;5;241m.\u001b[39mitems\u001b[38;5;241m.\u001b[39mpop()\n",
      "\u001b[0;31mException\u001b[0m: No elements in stack to pop"
     ]
    }
   ],
   "source": [
    "stack.pop()"
   ]
  }
 ],
 "metadata": {
  "kernelspec": {
   "display_name": "Python 3 (ipykernel)",
   "language": "python",
   "name": "python3"
  },
  "language_info": {
   "codemirror_mode": {
    "name": "ipython",
    "version": 3
   },
   "file_extension": ".py",
   "mimetype": "text/x-python",
   "name": "python",
   "nbconvert_exporter": "python",
   "pygments_lexer": "ipython3",
   "version": "3.13.0"
  }
 },
 "nbformat": 4,
 "nbformat_minor": 5
}
