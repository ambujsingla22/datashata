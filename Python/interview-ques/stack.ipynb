{
 "cells": [
  {
   "cell_type": "markdown",
   "metadata": {},
   "source": [
    "![Alt Text](ques.png)\n"
   ]
  },
  {
   "cell_type": "code",
   "execution_count": 3,
   "metadata": {},
   "outputs": [],
   "source": [
    "def bracket_dict(s):\n",
    "    d = {\n",
    "        ']': '[',\n",
    "        '}': '{',\n",
    "        ')': '('\n",
    "    }\n",
    "    return d[s]"
   ]
  },
  {
   "cell_type": "code",
   "execution_count": null,
   "metadata": {},
   "outputs": [],
   "source": [
    "def check_bracket_balancing(s):\n",
    "    stack = []\n",
    "    for c in s:\n",
    "        if c not in ('[','{','(',']','}',')'):\n",
    "            continue\n",
    "        elif c in ('[','{','('):\n",
    "            stack.append(c)\n",
    "        else:\n",
    "            if len(stack)==0:\n",
    "                return False\n",
    "            if stack[-1]==bracket_dict(c):\n",
    "                stack.pop()\n",
    "            else:\n",
    "                return False\n",
    "            \n",
    "    return len(stack)==0"
   ]
  },
  {
   "cell_type": "code",
   "execution_count": 13,
   "metadata": {},
   "outputs": [
    {
     "name": "stdout",
     "output_type": "stream",
     "text": [
      "True\n",
      "False\n",
      "True\n",
      "False\n",
      "True\n"
     ]
    }
   ],
   "source": [
    "print(check_bracket_balancing('({a+b})'))\n",
    "print(check_bracket_balancing('))((a+b}{'))\n",
    "print(check_bracket_balancing('((a+b))'))\n",
    "print(check_bracket_balancing('))'))\n",
    "print(check_bracket_balancing('[a+b]*(x+2y)*{gg+kk}'))"
   ]
  },
  {
   "cell_type": "code",
   "execution_count": null,
   "metadata": {},
   "outputs": [],
   "source": []
  }
 ],
 "metadata": {
  "kernelspec": {
   "display_name": "Python 3",
   "language": "python",
   "name": "python3"
  },
  "language_info": {
   "codemirror_mode": {
    "name": "ipython",
    "version": 3
   },
   "file_extension": ".py",
   "mimetype": "text/x-python",
   "name": "python",
   "nbconvert_exporter": "python",
   "pygments_lexer": "ipython3",
   "version": "3.13.0"
  }
 },
 "nbformat": 4,
 "nbformat_minor": 2
}
